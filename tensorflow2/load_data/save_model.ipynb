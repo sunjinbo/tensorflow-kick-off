{
 "cells": [
  {
   "cell_type": "code",
   "execution_count": 1,
   "metadata": {},
   "outputs": [
    {
     "name": "stdout",
     "output_type": "stream",
     "text": [
      "2.6.0\n"
     ]
    }
   ],
   "source": [
    "# 引入TensorFlow 2.0框架\n",
    "import tensorflow as tf\n",
    "import numpy as np\n",
    "\n",
    "from tensorflow import keras\n",
    "import matplotlib.pyplot as plt\n",
    "\n",
    "print(tf.__version__)"
   ]
  },
  {
   "cell_type": "code",
   "execution_count": 2,
   "metadata": {},
   "outputs": [],
   "source": [
    "# 加载并处理训练数据\n",
    "(train_images, train_labels), (test_images, test_labels) = keras.datasets.mnist.load_data(path=\"mnist.npz\")\n",
    "\n",
    "train_images = train_images / 255.0\n",
    "test_images = test_images / 255.0"
   ]
  },
  {
   "cell_type": "code",
   "execution_count": 3,
   "metadata": {},
   "outputs": [],
   "source": [
    "# 创建模型，定义网络结构\n",
    "model = keras.Sequential([\n",
    "    keras.layers.Flatten(input_shape=(28, 28)),\n",
    "    keras.layers.Dense(128, activation='relu'),\n",
    "    keras.layers.Dense(10)\n",
    "])"
   ]
  },
  {
   "cell_type": "code",
   "execution_count": 4,
   "metadata": {},
   "outputs": [],
   "source": [
    "# 编译模型，定义优化方法、损失函数等\n",
    "model.compile(optimizer='adam',\n",
    "              loss=tf.keras.losses.SparseCategoricalCrossentropy(from_logits=True),\n",
    "              metrics=['accuracy'])"
   ]
  },
  {
   "cell_type": "code",
   "execution_count": 5,
   "metadata": {},
   "outputs": [
    {
     "name": "stdout",
     "output_type": "stream",
     "text": [
      "Epoch 1/10\n",
      "1875/1875 [==============================] - 2s 936us/step - loss: 0.2587 - accuracy: 0.9261\n",
      "Epoch 2/10\n",
      "1875/1875 [==============================] - 1s 788us/step - loss: 0.1127 - accuracy: 0.9668\n",
      "Epoch 3/10\n",
      "1875/1875 [==============================] - 2s 1ms/step - loss: 0.0781 - accuracy: 0.9767\n",
      "Epoch 4/10\n",
      "1875/1875 [==============================] - 2s 959us/step - loss: 0.0579 - accuracy: 0.9826\n",
      "Epoch 5/10\n",
      "1875/1875 [==============================] - 2s 908us/step - loss: 0.0454 - accuracy: 0.9858\n",
      "Epoch 6/10\n",
      "1875/1875 [==============================] - 2s 834us/step - loss: 0.0350 - accuracy: 0.9888\n",
      "Epoch 7/10\n",
      "1875/1875 [==============================] - 2s 835us/step - loss: 0.0289 - accuracy: 0.9908\n",
      "Epoch 8/10\n",
      "1875/1875 [==============================] - 2s 840us/step - loss: 0.0237 - accuracy: 0.9926\n",
      "Epoch 9/10\n",
      "1875/1875 [==============================] - 2s 883us/step - loss: 0.0188 - accuracy: 0.9942\n",
      "Epoch 10/10\n",
      "1875/1875 [==============================] - 1s 793us/step - loss: 0.0166 - accuracy: 0.9948\n"
     ]
    },
    {
     "data": {
      "text/plain": [
       "<keras.callbacks.History at 0x7f80a52c4ed0>"
      ]
     },
     "execution_count": 5,
     "metadata": {},
     "output_type": "execute_result"
    }
   ],
   "source": [
    "# 训练模型，训练10个epochs\n",
    "model.fit(train_images, train_labels, epochs=10)"
   ]
  },
  {
   "cell_type": "code",
   "execution_count": 6,
   "metadata": {},
   "outputs": [
    {
     "name": "stdout",
     "output_type": "stream",
     "text": [
      "313/313 - 0s - loss: 0.0801 - accuracy: 0.9794\n",
      "\n",
      "Test accuracy: 0.9793999791145325\n"
     ]
    }
   ],
   "source": [
    "# 模型测试，在测试数据集上测试模型\n",
    "test_loss, test_acc = model.evaluate(test_images,  test_labels, verbose=2)\n",
    "print('\\nTest accuracy:', test_acc)"
   ]
  },
  {
   "cell_type": "code",
   "execution_count": 7,
   "metadata": {},
   "outputs": [],
   "source": [
    "# 保存模型的权重和偏置参数到HDF5文件中\n",
    "model.save('model.h5')"
   ]
  },
  {
   "cell_type": "code",
   "execution_count": 8,
   "metadata": {},
   "outputs": [],
   "source": [
    "# 删除模型\n",
    "del model"
   ]
  },
  {
   "cell_type": "code",
   "execution_count": 9,
   "metadata": {},
   "outputs": [],
   "source": [
    "# 恢复模型\n",
    "restored_model = tf.keras.models.load_model('model.h5')"
   ]
  },
  {
   "cell_type": "code",
   "execution_count": 11,
   "metadata": {},
   "outputs": [
    {
     "name": "stdout",
     "output_type": "stream",
     "text": [
      "313/313 - 0s - loss: 0.0801 - accuracy: 0.9794\n",
      "\n",
      "Restored test accuracy: 0.9793999791145325\n"
     ]
    }
   ],
   "source": [
    "# 测试恢复的模型\n",
    "test_loss, test_acc = restored_model.evaluate(test_images,  test_labels, verbose=2)\n",
    "print('\\nRestored test accuracy:', test_acc)"
   ]
  },
  {
   "cell_type": "code",
   "execution_count": 12,
   "metadata": {},
   "outputs": [
    {
     "data": {
      "image/png": "[encoded data removed]",
      "text/plain": [
       "<Figure size 720x720 with 25 Axes>"
      ]
     },
     "metadata": {},
     "output_type": "display_data"
    }
   ],
   "source": [
    "# 图形化展示测试结果\n",
    "probability_model = tf.keras.Sequential([restored_model, \n",
    "                                         tf.keras.layers.Softmax()])\n",
    "predictions = probability_model.predict(test_images)\n",
    "\n",
    "plt.figure(figsize=(10,10))\n",
    "for i in range(25):\n",
    "    plt.subplot(5,5,i+1)\n",
    "    plt.xticks([])\n",
    "    plt.yticks([])\n",
    "    plt.grid(False)\n",
    "    plt.imshow(test_images[i], cmap=plt.cm.binary)\n",
    "    plt.xlabel(test_labels[i])\n",
    "plt.show()"
   ]
  },
  {
   "cell_type": "code",
   "execution_count": null,
   "metadata": {},
   "outputs": [],
   "source": []
  }
 ],
 "metadata": {
  "kernelspec": {
   "display_name": "Python 3",
   "language": "python",
   "name": "python3"
  },
  "language_info": {
   "codemirror_mode": {
    "name": "ipython",
    "version": 3
   },
   "file_extension": ".py",
   "mimetype": "text/x-python",
   "name": "python",
   "nbconvert_exporter": "python",
   "pygments_lexer": "ipython3",
   "version": "3.7.4"
  }
 },
 "nbformat": 4,
 "nbformat_minor": 2
}
